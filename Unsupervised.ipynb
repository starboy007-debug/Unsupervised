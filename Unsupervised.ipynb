{
 "cells": [
  {
   "cell_type": "code",
   "execution_count": 1,
   "metadata": {},
   "outputs": [],
   "source": [
    "import numpy as np\n",
    "import pandas as pd\n",
    "import seaborn as sns"
   ]
  },
  {
   "cell_type": "markdown",
   "metadata": {},
   "source": [
    "# Decision tree"
   ]
  },
  {
   "cell_type": "markdown",
   "metadata": {},
   "source": [
    "# Creating data"
   ]
  },
  {
   "cell_type": "code",
   "execution_count": 21,
   "metadata": {},
   "outputs": [],
   "source": [
    "data = [\n",
    "    ['Green',3,'Mango'],\n",
    "    ['Yellow',3,'Mango'],\n",
    "    ['Red',1,'Grape'],\n",
    "    ['Red',1,'Grape'],\n",
    "    ['Yellow',3,'Lemon'],\n",
    "]\n",
    "\n",
    "# column label\n",
    "header = ['Color','Diameter','Label']"
   ]
  },
  {
   "cell_type": "code",
   "execution_count": 22,
   "metadata": {},
   "outputs": [],
   "source": [
    "def unique(rows,col):\n",
    "    return set([row[col] for row in rows])\n",
    "\n",
    "# count number of each type of example in dataset\n",
    "def class_counts(rows):\n",
    "    count={}\n",
    "    for row in rows:\n",
    "        label=row[-1]\n",
    "        if label not in count:\n",
    "            count[label]=0\n",
    "        count[label] += 1\n",
    "    return count\n",
    "\n",
    "def isnumeric(value):\n",
    "    return isinstance(value,int) or isinstance(value,float)\n"
   ]
  },
  {
   "cell_type": "markdown",
   "metadata": {},
   "source": [
    "# Partition dataset "
   ]
  },
  {
   "cell_type": "code",
   "execution_count": 34,
   "metadata": {},
   "outputs": [],
   "source": [
    "class Question:\n",
    "    \n",
    "    def __init__(self,column,value):\n",
    "        self.column=column\n",
    "        self.value=value\n",
    "    \n",
    "    def match(self,example):\n",
    "        val = example[self.column]\n",
    "        \n",
    "        if isnumeric(val):\n",
    "            return val >= self.value\n",
    "        else:\n",
    "            return val == self.value\n",
    "    \n",
    "    def __ref__(self):\n",
    "        condition = \"==\"\n",
    "        if isnumeric(self.value):\n",
    "            condition = \">=\"\n",
    "            \n",
    "        return \"Is %s %s %s?\"%(\n",
    "            header[self.column],condition,str(self.value)\n",
    "        )\n",
    "        \n",
    "        "
   ]
  },
  {
   "cell_type": "code",
   "execution_count": 32,
   "metadata": {},
   "outputs": [],
   "source": [
    "def partition(rows,question):\n",
    "    true_rows,false_rows = [],[]\n",
    "    for row in rows:\n",
    "        if question.match(row):\n",
    "            true_rows.append(row)\n",
    "        else:\n",
    "            false_rows.append(row)\n",
    "    return true_rows,false_rows\n",
    "\n",
    "\n",
    "def gini(rows):\n",
    "    counts = class_counts(rows)\n",
    "    impurity = 1\n",
    "    for lbl in counts:\n",
    "        prob_lbl = counts[lbl]/float(len(rows))\n",
    "        impurity -= prob_lbl**2\n",
    "    return impurity\n",
    "\n",
    "\n",
    "def info_gain(left,right,current_uncertanity):\n",
    "    p = float(len(left))/(len(left)+len(right))\n",
    "    return current_uncertanity - p*gini(left) - (1-p)*gini(right)\n",
    "\n",
    "\n",
    "def find_best_split(rows):\n",
    "    best_gain = 0\n",
    "    best_question = None\n",
    "    current_uncertanity = gini(rows)\n",
    "    n_features = len(rows[0])-1\n",
    "    \n",
    "    for col in range(n_features):\n",
    "        values = set([row[col] for row in rows])\n",
    "        \n",
    "        for val in values:\n",
    "            question = Question(col,val)\n",
    "            true_rows,false_rows = partition(rows,question)\n",
    "            \n",
    "            if len(true_rows)==0 or len(false_rows)==0:\n",
    "                continue\n",
    "            \n",
    "            gain = info_gain(true_rows,false_rows,current_uncertanity)\n",
    "            \n",
    "            if gain >= best_gain:\n",
    "                best_gain,best_question = gain,question\n",
    "                \n",
    "                \n",
    "    return best_gain,best_question \n",
    "        "
   ]
  },
  {
   "cell_type": "code",
   "execution_count": 28,
   "metadata": {},
   "outputs": [],
   "source": [
    "# leaf node\n",
    "class leaf:\n",
    "    \n",
    "    def __init__(self,rows):\n",
    "        self.predictions = class_counts(rows)"
   ]
  },
  {
   "cell_type": "code",
   "execution_count": 36,
   "metadata": {},
   "outputs": [
    {
     "name": "stdout",
     "output_type": "stream",
     "text": [
      "<__main__.Question object at 0x000002403D2A3848>\n",
      "--> True:\n",
      "  <__main__.Question object at 0x000002403C1EAF88>\n",
      "  --> True:\n",
      "  predict {'Mango': 1, 'Lemon': 1}\n",
      "  --> False:\n",
      "  predict {'Mango': 1}\n",
      "--> False:\n",
      "  predict {'Grape': 2}\n",
      "Actual: Mango, predicted: {'Mango': '100%'}\n",
      "Actual: Mango, predicted: {'Mango': '50%', 'Lemon': '50%'}\n",
      "Actual: Grape, predicted: {'Grape': '100%'}\n",
      "Actual: Grape, predicted: {'Grape': '100%'}\n",
      "Actual: Lemon, predicted: {'Mango': '50%', 'Lemon': '50%'}\n"
     ]
    }
   ],
   "source": [
    "class decision_node:\n",
    "    def __init__(self,question,true_branch,false_branch):\n",
    "        self.question = question\n",
    "        self.true_branch = true_branch\n",
    "        self.false_branch = false_branch\n",
    "        \n",
    "        \n",
    "def build_tree(rows):\n",
    "    \n",
    "    gain,question = find_best_split(rows)\n",
    "    \n",
    "    if gain==0:\n",
    "        return leaf(rows)\n",
    "    \n",
    "    true_rows,false_rows = partition(rows,question)\n",
    "    \n",
    "    true_branch = build_tree(true_rows)\n",
    "    false_branch = build_tree(false_rows)\n",
    "    return decision_node(question,true_branch,false_branch)\n",
    "    \n",
    "def print_tree(node,spacing=\"\"):\n",
    "    \n",
    "    if isinstance(node,leaf):\n",
    "        print(spacing + \"predict\",  node.predictions)\n",
    "        return\n",
    "    \n",
    "    print(spacing + str(node.question))\n",
    "    \n",
    "    print(spacing + '--> True:')\n",
    "    print_tree(node.true_branch,spacing=\"  \")\n",
    "    \n",
    "    print(spacing + '--> False:')\n",
    "    print_tree(node.false_branch,spacing=\"  \")\n",
    "    \n",
    "\n",
    "def classify(row,node):\n",
    "    if isinstance(node,leaf):\n",
    "        return node.predictions\n",
    "    \n",
    "    if node.question.match(row):\n",
    "        return classify(row,node.true_branch)\n",
    "    else:\n",
    "        return classify(row,node.false_branch)\n",
    "    \n",
    "def print_leaf(counts):\n",
    "    total = sum(counts.values())*1.0\n",
    "    probs = {}\n",
    "    \n",
    "    for lbl in counts.keys():\n",
    "        probs[lbl] = str(int(counts[lbl]/total*100)) + \"%\"\n",
    "    return probs\n",
    "\n",
    "\n",
    "\n",
    "if __name__ == '__main__':\n",
    "    my_tree = build_tree(data)\n",
    "    \n",
    "    print_tree(my_tree)\n",
    "    \n",
    "    data = [\n",
    "       ['Green',3,'Mango'],\n",
    "       ['Yellow',3,'Mango'],\n",
    "       ['Red',1,'Grape'],\n",
    "       ['Red',1,'Grape'],\n",
    "       ['Yellow',3,'Lemon'],\n",
    "    ]\n",
    "    \n",
    "    for row in data:\n",
    "        print(\"Actual: %s, predicted: %s\"%(row[-1],print_leaf(classify(row,my_tree))))\n",
    "\n"
   ]
  },
  {
   "cell_type": "code",
   "execution_count": null,
   "metadata": {},
   "outputs": [],
   "source": []
  },
  {
   "cell_type": "code",
   "execution_count": null,
   "metadata": {},
   "outputs": [],
   "source": []
  }
 ],
 "metadata": {
  "kernelspec": {
   "display_name": "Python 3",
   "language": "python",
   "name": "python3"
  },
  "language_info": {
   "codemirror_mode": {
    "name": "ipython",
    "version": 3
   },
   "file_extension": ".py",
   "mimetype": "text/x-python",
   "name": "python",
   "nbconvert_exporter": "python",
   "pygments_lexer": "ipython3",
   "version": "3.7.6"
  }
 },
 "nbformat": 4,
 "nbformat_minor": 4
}
